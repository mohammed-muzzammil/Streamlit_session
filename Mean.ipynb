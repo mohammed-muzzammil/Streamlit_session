{
 "cells": [
  {
   "cell_type": "code",
   "execution_count": null,
   "metadata": {},
   "outputs": [],
   "source": [
    "def mvt_mean(df):\n",
    "    \n",
    "    try:\n",
    "    \n",
    "        clean_df=(df.fillna(df.mean()))\n",
    "        clean_df.fillna(clean_df.select_dtypes(include='object').mode().iloc[0], inplace=True)\n",
    "        st.dataframe(clean_df)\n",
    "        st.write(clean_df.dtypes)\n",
    "        st.info(\"The Percenatge of Value Missing in Given Data is : {:.2f}%\".format(((df.isna().sum().sum())/(df.count().sum())*100)))\n",
    "        st.info(\"Data to be treated using MEAN : {}\".format(list(dict(df.mean()).keys())))\n",
    "        st.info('Shape of dataframe (Rows, Columns):{} '.format(df.shape))\n",
    "        st.write('Data description : ',df.describe())\n",
    "        st.info(\"Only Numerical missing values will be treated using MEAN \")\n",
    "        st.info(\"categorical missing values will be treated using MODE \")\n",
    "        st.write(\"\\nEmpty rows  after imputing the data: \\n\", clean_df.isnull().sum())\n",
    "        st.line_chart(clean_df)\n",
    "        return clean_df\n",
    "    \n",
    "    \n",
    "    except Exception as e:\n",
    "        st.write(\"Oops!\", e.__class__, \"occurred.\")\n",
    "        return df\n",
    "    \n"
   ]
  }
 ],
 "metadata": {
  "kernelspec": {
   "display_name": "Python 3",
   "language": "python",
   "name": "python3"
  },
  "language_info": {
   "codemirror_mode": {
    "name": "ipython",
    "version": 3
   },
   "file_extension": ".py",
   "mimetype": "text/x-python",
   "name": "python",
   "nbconvert_exporter": "python",
   "pygments_lexer": "ipython3",
   "version": "3.6.9"
  }
 },
 "nbformat": 4,
 "nbformat_minor": 2
}
